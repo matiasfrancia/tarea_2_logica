{
 "cells": [
  {
   "cell_type": "code",
   "execution_count": null,
   "metadata": {},
   "outputs": [
    {
     "name": "stdout",
     "output_type": "stream",
     "text": [
      "usage: learning_dt_with_maxsat.py [-h] --data_file DATA_FILE\n",
      "                                  [--train_ratio TRAIN_RATIO]\n",
      "                                  [--maxsat MAXSAT] [--max_depth MAX_DEPTH]\n",
      "                                  --size SIZE --n_learners N_LEARNERS\n",
      "                                  [--depth DEPTH] [--seed SEED]\n",
      "learning_dt_with_maxsat.py: error: unrecognized arguments: --atleast 1\n"
     ]
    }
   ],
   "source": [
    "!python learning_dt_with_maxsat.py \\\n",
    "    --n_learners 3 \\\n",
    "    --size 7 \\\n",
    "    --train_ratio 1.0 \\\n",
    "    --depth 3 \\\n",
    "    --data_file benchmarks/syntetic_data.txt"
   ]
  }
 ],
 "metadata": {
  "kernelspec": {
   "display_name": ".logic",
   "language": "python",
   "name": "python3"
  },
  "language_info": {
   "codemirror_mode": {
    "name": "ipython",
    "version": 3
   },
   "file_extension": ".py",
   "mimetype": "text/x-python",
   "name": "python",
   "nbconvert_exporter": "python",
   "pygments_lexer": "ipython3",
   "version": "3.11.7"
  }
 },
 "nbformat": 4,
 "nbformat_minor": 2
}
